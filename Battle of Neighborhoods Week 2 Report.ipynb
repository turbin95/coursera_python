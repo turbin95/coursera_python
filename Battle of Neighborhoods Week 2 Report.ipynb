{
 "cells": [
  {
   "cell_type": "markdown",
   "metadata": {},
   "source": [
    "## Capstone: Find the best neighborhood in Toronto to open a Hairdresser Store"
   ]
  },
  {
   "cell_type": "markdown",
   "metadata": {},
   "source": [
    "\n",
    "Introduction: A new company, Hair Co., wants to open a branch of store with focus on Hairdressing services in Toronto. To maximise the potential revenue, the Chief Operations Manager, V, of the company Hair Co., has requested a Data Scientist's help to determine good locations to open the store branches in. He wants to know which neighbourhoods in Toronto are suitable to open the Hairdressing branches.\n",
    "\n",
    "I proceeded to gather requirements and information with V to understand more on the business requirements.\n",
    "\n",
    "Problem Description: Which neighborhoods and locations should V open his new Hairdressing branches in Toronto to ensure a maximum return of revenue and customers to patronise the stall"
   ]
  },
  {
   "cell_type": "markdown",
   "metadata": {},
   "source": [
    "Requirements:\n",
    "\n",
    "- Branches needs to be strategically located near to the biggest concentration of residents in Toronto area.\n",
    "- To visualise common restaurants in Toronto by neighborhood.\n",
    "- Determine the number of people that can patronise the store each day around the neighbourhood.\n",
    "- Confirm any assumption by means of modeling and testing the data. a.) Is the neighborhood populous? b.) Determine the average neighbourhood affluence/wealth and salary. Is it comparable to the average of Canadians?"
   ]
  },
  {
   "cell_type": "markdown",
   "metadata": {},
   "source": [
    "\n",
    "V wants to be able to judge which neighborhoods also may be poised to grow in population and hence patronisation in coming years.\n",
    "\n",
    "Locating his new branch locations according to these requirements will ensure the following:\n",
    "\n",
    "- lower cost for delivery\n",
    "- shorter travel time to his store for his clients\n",
    "- overall lower run costs\n",
    "- increase in overall business\n",
    "- overall greater customer satisfaction"
   ]
  },
  {
   "cell_type": "markdown",
   "metadata": {},
   "source": [
    "### Data Wrangling"
   ]
  },
  {
   "cell_type": "markdown",
   "metadata": {},
   "source": [
    "1. Load all the Data from all the various sources.\n",
    "1.1 Toronto neighborhoods broken down by postal code\n",
    "https://en.wikipedia.org/wiki/List_of_postal_codes_of_Canada:_M\n",
    "Here webscraping was used using the BeautifulSoup library\n",
    "\n",
    "1.1.1 Load Toronto geospatial coordinates and merge to Toronto Postal Code Data\n",
    "http://cocl.us/Geospatial_data\n",
    "Next, joined geo spatial to the Toronto Data.\n",
    "\n",
    "1.2 Toronto neighborhoods populations broken down by postal code\n",
    "https://www12.statcan.gc.ca/census-recensement/2016/dp-pd/hlt-fst/pd-pl/Tables/File.cfm?T=1201&SR=1&RPP=9999&PR=0&CMA=0&CSD=0&S=22&O=A&Lang=Eng&OFT=CSV\n",
    "Used Pandas library to read CSV file\n",
    "\n",
    "1.2.1 Merge Toronto Neighbourhood populations data with Toronto Postal Code data\n",
    "\n",
    "1.3 Toronto neighborhoods average after tax income broken down by postal code\n",
    "Here we must manually download these from Stats Canada and load them.\n",
    "https://www12.statcan.gc.ca/census-recensement/2016/dp-pd/prof/search-recherche/change-geo.cfm?Lang=E&Geo1=FSA\n",
    "See: to_geo_space.csv\n",
    "\n",
    "\n",
    "1.4 What is the Canadian National Average After Tax Income\n",
    "https://www150.statcan.gc.ca/n1/daily-quotidien/180313/dq180313a-eng.htm\n",
    "Canadian families and unattached individuals had a median after-tax income of $57,000 in 2016.\n",
    "\n",
    "Key Observation: Of the 103 Toronto Neighborhoods gathered only 55.3% or 57 Neighborhoods are above the median after-tax income. 37.8% or 39 Neighborhoods are below he median after-tax income. 6.7% or 7 neighborhoods did not register as it appears their populations are too low. It appears that the greatest concentration of affluence is near central Toronto. We decided to keep all neighborhoods in the dataset regardless of income of population as the majority were close enough.\n",
    "\n",
    "1.5 Toronto list of Restaurants or Venues that could potentially use Restaurant Equipment\n",
    "4SQUARE API\n",
    "https://api.foursquare.com\n",
    "\n",
    "1.5.1 Get all the Venues in Toronto.\n",
    "1.5.2 Only add Restaurants as Venue Categories\n",
    "Use this list to Extract Restaurants and only include Restaurants in our Data Set.\n",
    "\n",
    "1.5.3 OneHot encode and count restaurants\n",
    "Prepare the data for clustering\n",
    "\n",
    "Combine all of those into a working Data Set to cluster and geo spatial map of the results showing the best neighborhood to open a Restaurant Supply Store"
   ]
  },
  {
   "cell_type": "markdown",
   "metadata": {},
   "source": [
    "### Methodology"
   ]
  },
  {
   "cell_type": "markdown",
   "metadata": {},
   "source": [
    "\n",
    "Methodology:\n",
    "Choice of Algorithms\n",
    "K-means clustering, it is an iterative clustering algorithm where the number of clusters K is predetermined and the algorithm iteratively assigns each data\n",
    "point to one of the K clusters based on the feature similarity.\n",
    "\n",
    "\n",
    "\n",
    "Key Observation: The highest score was 8.\n",
    "\n",
    "2.1 Run K means and segment data into clusters and generate labels\n",
    "2.2 Merge the Toronto data with geo coordinates data and make sure it's the right shape\n",
    "Here I reshape the Toronto data so that it’s shape matches the clustered data.\n",
    "\n",
    "2.3 Add the KMeans Labels\n",
    "Determine the largest cluster in this case it was cluster number 2 with a shape of\n",
    "(76, 15)"
   ]
  },
  {
   "cell_type": "markdown",
   "metadata": {},
   "source": [
    "### Discussion"
   ]
  },
  {
   "cell_type": "markdown",
   "metadata": {},
   "source": [
    "Using the Amenities list from Forsquare, we discovered that most neighborhoods were similar and the greatest concentration of restaurants was in Central Toronto and downtown Toronto. \n",
    "\n",
    "When we built our our K-Means dataset we used Silhouette analysis to tell us there was a lot of similarity between neighborhoods and the most common restaurants contained with in. Really there was only 2 types of cluster or neighborhoods in greater Toronto. The vast majority of those were in 1 cluster. So Toronto restaurants might be many but they are very homogeneously located near the center of Toronto.\n",
    "\n",
    "Of the 103 Toronto Neighborhoods gathered only 55.3% or 57 Neighborhoods are above the median after-tax income. 37.8% or 39 Neighborhoods are below he median after-tax income. 6.7% or 7 neighborhoods did not register as it appears their populations are too low. It appears that the greatest concentration of affluence is near central Toronto. We decided to keep all neighborhoods in the dataset regardless of income of population as the majority were close enough."
   ]
  },
  {
   "cell_type": "markdown",
   "metadata": {},
   "source": [
    "### Conclusion"
   ]
  },
  {
   "cell_type": "markdown",
   "metadata": {},
   "source": [
    "I feel confident with the recommendation I have given to V as it backed up with analysis of data and k-means clustering. Since it is backed up with hard-data and facts, it should be given as a recommendation.\n",
    "\n",
    "In the future, there is a potential for further analysis by consdering more amenities location and obtaining more accurate datasets regarding the amenities locations and population size and income."
   ]
  },
  {
   "cell_type": "code",
   "execution_count": null,
   "metadata": {},
   "outputs": [],
   "source": []
  }
 ],
 "metadata": {
  "kernelspec": {
   "display_name": "Python 3",
   "language": "python",
   "name": "python3"
  },
  "language_info": {
   "codemirror_mode": {
    "name": "ipython",
    "version": 3
   },
   "file_extension": ".py",
   "mimetype": "text/x-python",
   "name": "python",
   "nbconvert_exporter": "python",
   "pygments_lexer": "ipython3",
   "version": "3.8.6"
  }
 },
 "nbformat": 4,
 "nbformat_minor": 4
}
