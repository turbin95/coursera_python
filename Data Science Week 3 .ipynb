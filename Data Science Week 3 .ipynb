{
 "cells": [
  {
   "cell_type": "markdown",
   "metadata": {},
   "source": [
    "## Part 1"
   ]
  },
  {
   "cell_type": "markdown",
   "metadata": {},
   "source": [
    "Use the Notebook to build the code to scrape the following Wikipedia page, https://en.wikipedia.org/wiki/List_of_postal_codes_of_Canada:_M, in order to obtain the data that is in the table of postal codes and to transform the data into a pandas dataframe.\n",
    "\n",
    "To create the above dataframe:\n",
    "\n",
    "- The dataframe will consist of three columns: PostalCode, Borough, and Neighborhood\n",
    "- Only process the cells that have an assigned borough. Ignore cells with a borough that is Not assigned.\n",
    "- More than one neighborhood can exist in one postal code area. For example, in the table on the Wikipedia page, you will notice that - M5A is listed twice and has two neighborhoods: Harbourfront and Regent Park. These two rows will be combined into one row with the - neighborhoods separated with a comma as shown in row 11 in the above table.\n",
    "- If a cell has a borough but a Not assigned neighborhood, then the neighborhood will be the same as the borough. So for the 9th cell in the table on the Wikipedia page, the value of the Borough and the Neighborhood columns will be Queen's Park.\n",
    "- Clean your Notebook and add Markdown cells to explain your work and any assumptions you are making.\n",
    "- In the last cell of your notebook, use the .shape method to print the number of rows of your dataframe."
   ]
  },
  {
   "cell_type": "code",
   "execution_count": 1,
   "metadata": {},
   "outputs": [],
   "source": [
    "from bs4 import BeautifulSoup\n",
    "import requests\n",
    "import pandas as pd"
   ]
  },
  {
   "cell_type": "code",
   "execution_count": 31,
   "metadata": {},
   "outputs": [],
   "source": [
    "List_url = \"https://en.wikipedia.org/wiki/List_of_postal_codes_of_Canada:_M\"\n",
    "source = requests.get(List_url).text"
   ]
  },
  {
   "cell_type": "code",
   "execution_count": 32,
   "metadata": {},
   "outputs": [],
   "source": [
    "soup = BeautifulSoup(source, 'html.parser')"
   ]
  },
  {
   "cell_type": "code",
   "execution_count": 33,
   "metadata": {},
   "outputs": [],
   "source": [
    "table=soup.find('table')"
   ]
  },
  {
   "cell_type": "code",
   "execution_count": 34,
   "metadata": {},
   "outputs": [],
   "source": [
    "column_names = ['PostalCode','Borough','Neighborhood']\n",
    "df = pd.DataFrame(columns = column_names)"
   ]
  },
  {
   "cell_type": "code",
   "execution_count": 35,
   "metadata": {},
   "outputs": [],
   "source": [
    "# Search all the postcode, borough, neighborhood \n",
    "for tr_cell in table.find_all('tr'):\n",
    "    row_data=[]\n",
    "    for td_cell in tr_cell.find_all('td'):\n",
    "        row_data.append(td_cell.text.strip())\n",
    "    if len(row_data)==3:\n",
    "        df.loc[len(df)] = row_data"
   ]
  },
  {
   "cell_type": "code",
   "execution_count": 36,
   "metadata": {},
   "outputs": [
    {
     "data": {
      "text/html": [
       "<div>\n",
       "<style scoped>\n",
       "    .dataframe tbody tr th:only-of-type {\n",
       "        vertical-align: middle;\n",
       "    }\n",
       "\n",
       "    .dataframe tbody tr th {\n",
       "        vertical-align: top;\n",
       "    }\n",
       "\n",
       "    .dataframe thead th {\n",
       "        text-align: right;\n",
       "    }\n",
       "</style>\n",
       "<table border=\"1\" class=\"dataframe\">\n",
       "  <thead>\n",
       "    <tr style=\"text-align: right;\">\n",
       "      <th></th>\n",
       "      <th>PostalCode</th>\n",
       "      <th>Borough</th>\n",
       "      <th>Neighborhood</th>\n",
       "    </tr>\n",
       "  </thead>\n",
       "  <tbody>\n",
       "    <tr>\n",
       "      <th>0</th>\n",
       "      <td>M1A</td>\n",
       "      <td>Not assigned</td>\n",
       "      <td>Not assigned</td>\n",
       "    </tr>\n",
       "    <tr>\n",
       "      <th>1</th>\n",
       "      <td>M2A</td>\n",
       "      <td>Not assigned</td>\n",
       "      <td>Not assigned</td>\n",
       "    </tr>\n",
       "    <tr>\n",
       "      <th>2</th>\n",
       "      <td>M3A</td>\n",
       "      <td>North York</td>\n",
       "      <td>Parkwoods</td>\n",
       "    </tr>\n",
       "    <tr>\n",
       "      <th>3</th>\n",
       "      <td>M4A</td>\n",
       "      <td>North York</td>\n",
       "      <td>Victoria Village</td>\n",
       "    </tr>\n",
       "    <tr>\n",
       "      <th>4</th>\n",
       "      <td>M5A</td>\n",
       "      <td>Downtown Toronto</td>\n",
       "      <td>Regent Park, Harbourfront</td>\n",
       "    </tr>\n",
       "    <tr>\n",
       "      <th>...</th>\n",
       "      <td>...</td>\n",
       "      <td>...</td>\n",
       "      <td>...</td>\n",
       "    </tr>\n",
       "    <tr>\n",
       "      <th>175</th>\n",
       "      <td>M5Z</td>\n",
       "      <td>Not assigned</td>\n",
       "      <td>Not assigned</td>\n",
       "    </tr>\n",
       "    <tr>\n",
       "      <th>176</th>\n",
       "      <td>M6Z</td>\n",
       "      <td>Not assigned</td>\n",
       "      <td>Not assigned</td>\n",
       "    </tr>\n",
       "    <tr>\n",
       "      <th>177</th>\n",
       "      <td>M7Z</td>\n",
       "      <td>Not assigned</td>\n",
       "      <td>Not assigned</td>\n",
       "    </tr>\n",
       "    <tr>\n",
       "      <th>178</th>\n",
       "      <td>M8Z</td>\n",
       "      <td>Etobicoke</td>\n",
       "      <td>Mimico NW, The Queensway West, South of Bloor,...</td>\n",
       "    </tr>\n",
       "    <tr>\n",
       "      <th>179</th>\n",
       "      <td>M9Z</td>\n",
       "      <td>Not assigned</td>\n",
       "      <td>Not assigned</td>\n",
       "    </tr>\n",
       "  </tbody>\n",
       "</table>\n",
       "<p>180 rows × 3 columns</p>\n",
       "</div>"
      ],
      "text/plain": [
       "    PostalCode           Borough  \\\n",
       "0          M1A      Not assigned   \n",
       "1          M2A      Not assigned   \n",
       "2          M3A        North York   \n",
       "3          M4A        North York   \n",
       "4          M5A  Downtown Toronto   \n",
       "..         ...               ...   \n",
       "175        M5Z      Not assigned   \n",
       "176        M6Z      Not assigned   \n",
       "177        M7Z      Not assigned   \n",
       "178        M8Z         Etobicoke   \n",
       "179        M9Z      Not assigned   \n",
       "\n",
       "                                          Neighborhood  \n",
       "0                                         Not assigned  \n",
       "1                                         Not assigned  \n",
       "2                                            Parkwoods  \n",
       "3                                     Victoria Village  \n",
       "4                            Regent Park, Harbourfront  \n",
       "..                                                 ...  \n",
       "175                                       Not assigned  \n",
       "176                                       Not assigned  \n",
       "177                                       Not assigned  \n",
       "178  Mimico NW, The Queensway West, South of Bloor,...  \n",
       "179                                       Not assigned  \n",
       "\n",
       "[180 rows x 3 columns]"
      ]
     },
     "execution_count": 36,
     "metadata": {},
     "output_type": "execute_result"
    }
   ],
   "source": [
    "df"
   ]
  },
  {
   "cell_type": "code",
   "execution_count": 37,
   "metadata": {},
   "outputs": [
    {
     "data": {
      "text/html": [
       "<div>\n",
       "<style scoped>\n",
       "    .dataframe tbody tr th:only-of-type {\n",
       "        vertical-align: middle;\n",
       "    }\n",
       "\n",
       "    .dataframe tbody tr th {\n",
       "        vertical-align: top;\n",
       "    }\n",
       "\n",
       "    .dataframe thead th {\n",
       "        text-align: right;\n",
       "    }\n",
       "</style>\n",
       "<table border=\"1\" class=\"dataframe\">\n",
       "  <thead>\n",
       "    <tr style=\"text-align: right;\">\n",
       "      <th></th>\n",
       "      <th>PostalCode</th>\n",
       "      <th>Borough</th>\n",
       "      <th>Neighborhood</th>\n",
       "    </tr>\n",
       "  </thead>\n",
       "  <tbody>\n",
       "    <tr>\n",
       "      <th>2</th>\n",
       "      <td>M3A</td>\n",
       "      <td>North York</td>\n",
       "      <td>Parkwoods</td>\n",
       "    </tr>\n",
       "    <tr>\n",
       "      <th>3</th>\n",
       "      <td>M4A</td>\n",
       "      <td>North York</td>\n",
       "      <td>Victoria Village</td>\n",
       "    </tr>\n",
       "    <tr>\n",
       "      <th>4</th>\n",
       "      <td>M5A</td>\n",
       "      <td>Downtown Toronto</td>\n",
       "      <td>Regent Park, Harbourfront</td>\n",
       "    </tr>\n",
       "    <tr>\n",
       "      <th>5</th>\n",
       "      <td>M6A</td>\n",
       "      <td>North York</td>\n",
       "      <td>Lawrence Manor, Lawrence Heights</td>\n",
       "    </tr>\n",
       "    <tr>\n",
       "      <th>6</th>\n",
       "      <td>M7A</td>\n",
       "      <td>Downtown Toronto</td>\n",
       "      <td>Queen's Park, Ontario Provincial Government</td>\n",
       "    </tr>\n",
       "    <tr>\n",
       "      <th>...</th>\n",
       "      <td>...</td>\n",
       "      <td>...</td>\n",
       "      <td>...</td>\n",
       "    </tr>\n",
       "    <tr>\n",
       "      <th>160</th>\n",
       "      <td>M8X</td>\n",
       "      <td>Etobicoke</td>\n",
       "      <td>The Kingsway, Montgomery Road, Old Mill North</td>\n",
       "    </tr>\n",
       "    <tr>\n",
       "      <th>165</th>\n",
       "      <td>M4Y</td>\n",
       "      <td>Downtown Toronto</td>\n",
       "      <td>Church and Wellesley</td>\n",
       "    </tr>\n",
       "    <tr>\n",
       "      <th>168</th>\n",
       "      <td>M7Y</td>\n",
       "      <td>East Toronto</td>\n",
       "      <td>Business reply mail Processing Centre, South C...</td>\n",
       "    </tr>\n",
       "    <tr>\n",
       "      <th>169</th>\n",
       "      <td>M8Y</td>\n",
       "      <td>Etobicoke</td>\n",
       "      <td>Old Mill South, King's Mill Park, Sunnylea, Hu...</td>\n",
       "    </tr>\n",
       "    <tr>\n",
       "      <th>178</th>\n",
       "      <td>M8Z</td>\n",
       "      <td>Etobicoke</td>\n",
       "      <td>Mimico NW, The Queensway West, South of Bloor,...</td>\n",
       "    </tr>\n",
       "  </tbody>\n",
       "</table>\n",
       "<p>103 rows × 3 columns</p>\n",
       "</div>"
      ],
      "text/plain": [
       "    PostalCode           Borough  \\\n",
       "2          M3A        North York   \n",
       "3          M4A        North York   \n",
       "4          M5A  Downtown Toronto   \n",
       "5          M6A        North York   \n",
       "6          M7A  Downtown Toronto   \n",
       "..         ...               ...   \n",
       "160        M8X         Etobicoke   \n",
       "165        M4Y  Downtown Toronto   \n",
       "168        M7Y      East Toronto   \n",
       "169        M8Y         Etobicoke   \n",
       "178        M8Z         Etobicoke   \n",
       "\n",
       "                                          Neighborhood  \n",
       "2                                            Parkwoods  \n",
       "3                                     Victoria Village  \n",
       "4                            Regent Park, Harbourfront  \n",
       "5                     Lawrence Manor, Lawrence Heights  \n",
       "6          Queen's Park, Ontario Provincial Government  \n",
       "..                                                 ...  \n",
       "160      The Kingsway, Montgomery Road, Old Mill North  \n",
       "165                               Church and Wellesley  \n",
       "168  Business reply mail Processing Centre, South C...  \n",
       "169  Old Mill South, King's Mill Park, Sunnylea, Hu...  \n",
       "178  Mimico NW, The Queensway West, South of Bloor,...  \n",
       "\n",
       "[103 rows x 3 columns]"
      ]
     },
     "execution_count": 37,
     "metadata": {},
     "output_type": "execute_result"
    }
   ],
   "source": [
    "df = df[df['Borough'] != 'Not assigned']\n",
    "df = df[df['Neighborhood'] != 'Not assigned']\n",
    "df"
   ]
  },
  {
   "cell_type": "code",
   "execution_count": 38,
   "metadata": {},
   "outputs": [
    {
     "data": {
      "text/html": [
       "<div>\n",
       "<style scoped>\n",
       "    .dataframe tbody tr th:only-of-type {\n",
       "        vertical-align: middle;\n",
       "    }\n",
       "\n",
       "    .dataframe tbody tr th {\n",
       "        vertical-align: top;\n",
       "    }\n",
       "\n",
       "    .dataframe thead th {\n",
       "        text-align: right;\n",
       "    }\n",
       "</style>\n",
       "<table border=\"1\" class=\"dataframe\">\n",
       "  <thead>\n",
       "    <tr style=\"text-align: right;\">\n",
       "      <th></th>\n",
       "      <th>PostalCode</th>\n",
       "      <th>Borough</th>\n",
       "      <th>Neighborhood</th>\n",
       "    </tr>\n",
       "  </thead>\n",
       "  <tbody>\n",
       "    <tr>\n",
       "      <th>0</th>\n",
       "      <td>M3A</td>\n",
       "      <td>North York</td>\n",
       "      <td>Parkwoods</td>\n",
       "    </tr>\n",
       "    <tr>\n",
       "      <th>1</th>\n",
       "      <td>M4A</td>\n",
       "      <td>North York</td>\n",
       "      <td>Victoria Village</td>\n",
       "    </tr>\n",
       "    <tr>\n",
       "      <th>2</th>\n",
       "      <td>M5A</td>\n",
       "      <td>Downtown Toronto</td>\n",
       "      <td>Regent Park, Harbourfront</td>\n",
       "    </tr>\n",
       "    <tr>\n",
       "      <th>3</th>\n",
       "      <td>M6A</td>\n",
       "      <td>North York</td>\n",
       "      <td>Lawrence Manor, Lawrence Heights</td>\n",
       "    </tr>\n",
       "    <tr>\n",
       "      <th>4</th>\n",
       "      <td>M7A</td>\n",
       "      <td>Downtown Toronto</td>\n",
       "      <td>Queen's Park, Ontario Provincial Government</td>\n",
       "    </tr>\n",
       "    <tr>\n",
       "      <th>...</th>\n",
       "      <td>...</td>\n",
       "      <td>...</td>\n",
       "      <td>...</td>\n",
       "    </tr>\n",
       "    <tr>\n",
       "      <th>98</th>\n",
       "      <td>M8X</td>\n",
       "      <td>Etobicoke</td>\n",
       "      <td>The Kingsway, Montgomery Road, Old Mill North</td>\n",
       "    </tr>\n",
       "    <tr>\n",
       "      <th>99</th>\n",
       "      <td>M4Y</td>\n",
       "      <td>Downtown Toronto</td>\n",
       "      <td>Church and Wellesley</td>\n",
       "    </tr>\n",
       "    <tr>\n",
       "      <th>100</th>\n",
       "      <td>M7Y</td>\n",
       "      <td>East Toronto</td>\n",
       "      <td>Business reply mail Processing Centre, South C...</td>\n",
       "    </tr>\n",
       "    <tr>\n",
       "      <th>101</th>\n",
       "      <td>M8Y</td>\n",
       "      <td>Etobicoke</td>\n",
       "      <td>Old Mill South, King's Mill Park, Sunnylea, Hu...</td>\n",
       "    </tr>\n",
       "    <tr>\n",
       "      <th>102</th>\n",
       "      <td>M8Z</td>\n",
       "      <td>Etobicoke</td>\n",
       "      <td>Mimico NW, The Queensway West, South of Bloor,...</td>\n",
       "    </tr>\n",
       "  </tbody>\n",
       "</table>\n",
       "<p>103 rows × 3 columns</p>\n",
       "</div>"
      ],
      "text/plain": [
       "    PostalCode           Borough  \\\n",
       "0          M3A        North York   \n",
       "1          M4A        North York   \n",
       "2          M5A  Downtown Toronto   \n",
       "3          M6A        North York   \n",
       "4          M7A  Downtown Toronto   \n",
       "..         ...               ...   \n",
       "98         M8X         Etobicoke   \n",
       "99         M4Y  Downtown Toronto   \n",
       "100        M7Y      East Toronto   \n",
       "101        M8Y         Etobicoke   \n",
       "102        M8Z         Etobicoke   \n",
       "\n",
       "                                          Neighborhood  \n",
       "0                                            Parkwoods  \n",
       "1                                     Victoria Village  \n",
       "2                            Regent Park, Harbourfront  \n",
       "3                     Lawrence Manor, Lawrence Heights  \n",
       "4          Queen's Park, Ontario Provincial Government  \n",
       "..                                                 ...  \n",
       "98       The Kingsway, Montgomery Road, Old Mill North  \n",
       "99                                Church and Wellesley  \n",
       "100  Business reply mail Processing Centre, South C...  \n",
       "101  Old Mill South, King's Mill Park, Sunnylea, Hu...  \n",
       "102  Mimico NW, The Queensway West, South of Bloor,...  \n",
       "\n",
       "[103 rows x 3 columns]"
      ]
     },
     "execution_count": 38,
     "metadata": {},
     "output_type": "execute_result"
    }
   ],
   "source": [
    "df = df.reset_index(drop=True)\n",
    "df"
   ]
  },
  {
   "cell_type": "code",
   "execution_count": 39,
   "metadata": {},
   "outputs": [
    {
     "data": {
      "text/plain": [
       "(103, 3)"
      ]
     },
     "execution_count": 39,
     "metadata": {},
     "output_type": "execute_result"
    }
   ],
   "source": [
    "df.shape"
   ]
  },
  {
   "cell_type": "markdown",
   "metadata": {},
   "source": [
    "## Part 2"
   ]
  },
  {
   "cell_type": "markdown",
   "metadata": {},
   "source": [
    "Now that you have built a dataframe of the postal code of each neighborhood along with the borough name and neighborhood name, in order to utilize the Foursquare location data, we need to get the latitude and the longitude coordinates of each neighborhood. \n",
    "\n",
    "In an older version of this course, we were leveraging the Google Maps Geocoding API to get the latitude and the longitude coordinates of each neighborhood. However, recently Google started charging for their API: http://geoawesomeness.com/developers-up-in-arms-over-google-maps-api-insane-price-hike/, so we will use the Geocoder Python package instead: https://geocoder.readthedocs.io/index.html.\n",
    "\n",
    "The problem with this Package is you have to be persistent sometimes in order to get the geographical coordinates of a given postal code. So you can make a call to get the latitude and longitude coordinates of a given postal code and the result would be None, and then make the call again and you would get the coordinates. So, in order to make sure that you get the coordinates for all of our neighborhoods, you can run a while loop for each postal code. Taking  postal code M5G as an example, your code would look something like this:\n",
    "\n",
    "Given that this package can be very unreliable, in case you are not able to get the geographical coordinates of the neighborhoods using the Geocoder package, here is a link to a csv file that has the geographical coordinates of each postal code: http://cocl.us/Geospatial_data\n",
    "\n",
    "Use the Geocoder package or the csv file to create the following dataframe:"
   ]
  },
  {
   "cell_type": "code",
   "execution_count": 40,
   "metadata": {},
   "outputs": [],
   "source": [
    "def get_geocode(postal_code):\n",
    "    # initialize your variable to None\n",
    "    lat_lng_coords = None\n",
    "    while(lat_lng_coords is None):\n",
    "        g = geocoder.google('{}, Toronto, Ontario'.format(postal_code))\n",
    "        lat_lng_coords = g.latlng\n",
    "    latitude = lat_lng_coords[0]\n",
    "    longitude = lat_lng_coords[1]\n",
    "    return latitude,longitude"
   ]
  },
  {
   "cell_type": "code",
   "execution_count": 41,
   "metadata": {},
   "outputs": [],
   "source": [
    "geo_df=pd.read_csv('http://cocl.us/Geospatial_data')"
   ]
  },
  {
   "cell_type": "code",
   "execution_count": 44,
   "metadata": {},
   "outputs": [
    {
     "data": {
      "text/html": [
       "<div>\n",
       "<style scoped>\n",
       "    .dataframe tbody tr th:only-of-type {\n",
       "        vertical-align: middle;\n",
       "    }\n",
       "\n",
       "    .dataframe tbody tr th {\n",
       "        vertical-align: top;\n",
       "    }\n",
       "\n",
       "    .dataframe thead th {\n",
       "        text-align: right;\n",
       "    }\n",
       "</style>\n",
       "<table border=\"1\" class=\"dataframe\">\n",
       "  <thead>\n",
       "    <tr style=\"text-align: right;\">\n",
       "      <th></th>\n",
       "      <th>Postal Code</th>\n",
       "      <th>Latitude</th>\n",
       "      <th>Longitude</th>\n",
       "    </tr>\n",
       "  </thead>\n",
       "  <tbody>\n",
       "    <tr>\n",
       "      <th>0</th>\n",
       "      <td>M1B</td>\n",
       "      <td>43.806686</td>\n",
       "      <td>-79.194353</td>\n",
       "    </tr>\n",
       "    <tr>\n",
       "      <th>1</th>\n",
       "      <td>M1C</td>\n",
       "      <td>43.784535</td>\n",
       "      <td>-79.160497</td>\n",
       "    </tr>\n",
       "    <tr>\n",
       "      <th>2</th>\n",
       "      <td>M1E</td>\n",
       "      <td>43.763573</td>\n",
       "      <td>-79.188711</td>\n",
       "    </tr>\n",
       "    <tr>\n",
       "      <th>3</th>\n",
       "      <td>M1G</td>\n",
       "      <td>43.770992</td>\n",
       "      <td>-79.216917</td>\n",
       "    </tr>\n",
       "    <tr>\n",
       "      <th>4</th>\n",
       "      <td>M1H</td>\n",
       "      <td>43.773136</td>\n",
       "      <td>-79.239476</td>\n",
       "    </tr>\n",
       "  </tbody>\n",
       "</table>\n",
       "</div>"
      ],
      "text/plain": [
       "  Postal Code   Latitude  Longitude\n",
       "0         M1B  43.806686 -79.194353\n",
       "1         M1C  43.784535 -79.160497\n",
       "2         M1E  43.763573 -79.188711\n",
       "3         M1G  43.770992 -79.216917\n",
       "4         M1H  43.773136 -79.239476"
      ]
     },
     "execution_count": 44,
     "metadata": {},
     "output_type": "execute_result"
    }
   ],
   "source": [
    "geo_df.head()"
   ]
  },
  {
   "cell_type": "code",
   "execution_count": 45,
   "metadata": {},
   "outputs": [
    {
     "data": {
      "text/html": [
       "<div>\n",
       "<style scoped>\n",
       "    .dataframe tbody tr th:only-of-type {\n",
       "        vertical-align: middle;\n",
       "    }\n",
       "\n",
       "    .dataframe tbody tr th {\n",
       "        vertical-align: top;\n",
       "    }\n",
       "\n",
       "    .dataframe thead th {\n",
       "        text-align: right;\n",
       "    }\n",
       "</style>\n",
       "<table border=\"1\" class=\"dataframe\">\n",
       "  <thead>\n",
       "    <tr style=\"text-align: right;\">\n",
       "      <th></th>\n",
       "      <th>PostalCode</th>\n",
       "      <th>Borough</th>\n",
       "      <th>Neighborhood</th>\n",
       "      <th>Latitude</th>\n",
       "      <th>Longitude</th>\n",
       "    </tr>\n",
       "  </thead>\n",
       "  <tbody>\n",
       "    <tr>\n",
       "      <th>0</th>\n",
       "      <td>M3A</td>\n",
       "      <td>North York</td>\n",
       "      <td>Parkwoods</td>\n",
       "      <td>43.753259</td>\n",
       "      <td>-79.329656</td>\n",
       "    </tr>\n",
       "    <tr>\n",
       "      <th>1</th>\n",
       "      <td>M4A</td>\n",
       "      <td>North York</td>\n",
       "      <td>Victoria Village</td>\n",
       "      <td>43.725882</td>\n",
       "      <td>-79.315572</td>\n",
       "    </tr>\n",
       "    <tr>\n",
       "      <th>2</th>\n",
       "      <td>M5A</td>\n",
       "      <td>Downtown Toronto</td>\n",
       "      <td>Regent Park, Harbourfront</td>\n",
       "      <td>43.654260</td>\n",
       "      <td>-79.360636</td>\n",
       "    </tr>\n",
       "    <tr>\n",
       "      <th>3</th>\n",
       "      <td>M6A</td>\n",
       "      <td>North York</td>\n",
       "      <td>Lawrence Manor, Lawrence Heights</td>\n",
       "      <td>43.718518</td>\n",
       "      <td>-79.464763</td>\n",
       "    </tr>\n",
       "    <tr>\n",
       "      <th>4</th>\n",
       "      <td>M7A</td>\n",
       "      <td>Downtown Toronto</td>\n",
       "      <td>Queen's Park, Ontario Provincial Government</td>\n",
       "      <td>43.662301</td>\n",
       "      <td>-79.389494</td>\n",
       "    </tr>\n",
       "  </tbody>\n",
       "</table>\n",
       "</div>"
      ],
      "text/plain": [
       "  PostalCode           Borough                                 Neighborhood  \\\n",
       "0        M3A        North York                                    Parkwoods   \n",
       "1        M4A        North York                             Victoria Village   \n",
       "2        M5A  Downtown Toronto                    Regent Park, Harbourfront   \n",
       "3        M6A        North York             Lawrence Manor, Lawrence Heights   \n",
       "4        M7A  Downtown Toronto  Queen's Park, Ontario Provincial Government   \n",
       "\n",
       "    Latitude  Longitude  \n",
       "0  43.753259 -79.329656  \n",
       "1  43.725882 -79.315572  \n",
       "2  43.654260 -79.360636  \n",
       "3  43.718518 -79.464763  \n",
       "4  43.662301 -79.389494  "
      ]
     },
     "execution_count": 45,
     "metadata": {},
     "output_type": "execute_result"
    }
   ],
   "source": [
    "geo_df.rename(columns={'Postal Code':'PostalCode'}, inplace = True)\n",
    "geo_df_merged = pd.merge(df, geo_df, on='PostalCode')\n",
    "geo_df_merged.head()"
   ]
  },
  {
   "cell_type": "markdown",
   "metadata": {},
   "source": [
    "## Part 3"
   ]
  },
  {
   "cell_type": "markdown",
   "metadata": {},
   "source": [
    "Explore and cluster the neighborhoods in Toronto. You can decide to work with only boroughs that contain the word Toronto and then replicate the same analysis we did to the New York City data. It is up to you. \n",
    "\n",
    "Just make sure:\n",
    "\n",
    "to add enough Markdown cells to explain what you decided to do and to report any observations you make. \n",
    "to generate maps to visualize your neighborhoods and how they cluster together. "
   ]
  },
  {
   "cell_type": "code",
   "execution_count": 49,
   "metadata": {},
   "outputs": [
    {
     "data": {
      "text/html": [
       "<div>\n",
       "<style scoped>\n",
       "    .dataframe tbody tr th:only-of-type {\n",
       "        vertical-align: middle;\n",
       "    }\n",
       "\n",
       "    .dataframe tbody tr th {\n",
       "        vertical-align: top;\n",
       "    }\n",
       "\n",
       "    .dataframe thead th {\n",
       "        text-align: right;\n",
       "    }\n",
       "</style>\n",
       "<table border=\"1\" class=\"dataframe\">\n",
       "  <thead>\n",
       "    <tr style=\"text-align: right;\">\n",
       "      <th></th>\n",
       "      <th>PostalCode</th>\n",
       "      <th>Borough</th>\n",
       "      <th>Neighborhood</th>\n",
       "      <th>Latitude</th>\n",
       "      <th>Longitude</th>\n",
       "    </tr>\n",
       "  </thead>\n",
       "  <tbody>\n",
       "    <tr>\n",
       "      <th>2</th>\n",
       "      <td>M5A</td>\n",
       "      <td>Downtown Toronto</td>\n",
       "      <td>Regent Park, Harbourfront</td>\n",
       "      <td>43.654260</td>\n",
       "      <td>-79.360636</td>\n",
       "    </tr>\n",
       "    <tr>\n",
       "      <th>4</th>\n",
       "      <td>M7A</td>\n",
       "      <td>Downtown Toronto</td>\n",
       "      <td>Queen's Park, Ontario Provincial Government</td>\n",
       "      <td>43.662301</td>\n",
       "      <td>-79.389494</td>\n",
       "    </tr>\n",
       "    <tr>\n",
       "      <th>9</th>\n",
       "      <td>M5B</td>\n",
       "      <td>Downtown Toronto</td>\n",
       "      <td>Garden District, Ryerson</td>\n",
       "      <td>43.657162</td>\n",
       "      <td>-79.378937</td>\n",
       "    </tr>\n",
       "    <tr>\n",
       "      <th>15</th>\n",
       "      <td>M5C</td>\n",
       "      <td>Downtown Toronto</td>\n",
       "      <td>St. James Town</td>\n",
       "      <td>43.651494</td>\n",
       "      <td>-79.375418</td>\n",
       "    </tr>\n",
       "    <tr>\n",
       "      <th>19</th>\n",
       "      <td>M4E</td>\n",
       "      <td>East Toronto</td>\n",
       "      <td>The Beaches</td>\n",
       "      <td>43.676357</td>\n",
       "      <td>-79.293031</td>\n",
       "    </tr>\n",
       "  </tbody>\n",
       "</table>\n",
       "</div>"
      ],
      "text/plain": [
       "   PostalCode           Borough                                 Neighborhood  \\\n",
       "2         M5A  Downtown Toronto                    Regent Park, Harbourfront   \n",
       "4         M7A  Downtown Toronto  Queen's Park, Ontario Provincial Government   \n",
       "9         M5B  Downtown Toronto                     Garden District, Ryerson   \n",
       "15        M5C  Downtown Toronto                               St. James Town   \n",
       "19        M4E      East Toronto                                  The Beaches   \n",
       "\n",
       "     Latitude  Longitude  \n",
       "2   43.654260 -79.360636  \n",
       "4   43.662301 -79.389494  \n",
       "9   43.657162 -79.378937  \n",
       "15  43.651494 -79.375418  \n",
       "19  43.676357 -79.293031  "
      ]
     },
     "execution_count": 49,
     "metadata": {},
     "output_type": "execute_result"
    }
   ],
   "source": [
    "geo_df_toronto = geo_df_merged[geo_df_merged['Borough'].str.contains('Toronto')]\n",
    "\n",
    "geo_df_toronto.head()"
   ]
  },
  {
   "cell_type": "code",
   "execution_count": 51,
   "metadata": {},
   "outputs": [],
   "source": [
    "import numpy as np\n",
    "from geopy.geocoders import Nominatim\n",
    "import folium\n",
    "import matplotlib.cm as cm\n",
    "import matplotlib.colors as colors"
   ]
  },
  {
   "cell_type": "code",
   "execution_count": 52,
   "metadata": {},
   "outputs": [
    {
     "name": "stdout",
     "output_type": "stream",
     "text": [
      "The geograpical coordinate of Toronto are 43.6534817, -79.3839347.\n"
     ]
    }
   ],
   "source": [
    "\n",
    "address = 'Toronto'\n",
    "geolocator = Nominatim(user_agent=\"toronto_explorer\")\n",
    "location = geolocator.geocode(address)\n",
    "latitude = location.latitude\n",
    "longitude = location.longitude\n",
    "print(f'The geograpical coordinate of Toronto are {latitude}, {longitude}.')"
   ]
  },
  {
   "cell_type": "code",
   "execution_count": 59,
   "metadata": {},
   "outputs": [
    {
     "data": {
      "text/html": [
       "<div style=\"width:100%;\"><div style=\"position:relative;width:100%;height:0;padding-bottom:60%;\"><span style=\"color:#565656\">Make this Notebook Trusted to load map: File -> Trust Notebook</span><iframe src=\"about:blank\" style=\"position:absolute;width:100%;height:100%;left:0;top:0;border:none !important;\" data-html=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 onload=\"this.contentDocument.open();this.contentDocument.write(atob(this.getAttribute('data-html')));this.contentDocument.close();\" allowfullscreen webkitallowfullscreen mozallowfullscreen></iframe></div></div>"
      ],
      "text/plain": [
       "<folium.folium.Map at 0x1d1fba3a6a0>"
      ]
     },
     "execution_count": 59,
     "metadata": {},
     "output_type": "execute_result"
    }
   ],
   "source": [
    "map_toronto = folium.Map(location=[latitude, longitude], zoom_start=12)\n",
    "map_toronto"
   ]
  },
  {
   "cell_type": "markdown",
   "metadata": {},
   "source": [
    "### Explore and cluster the neighbourhoods in Toronto"
   ]
  },
  {
   "cell_type": "code",
   "execution_count": 60,
   "metadata": {},
   "outputs": [
    {
     "data": {
      "text/html": [
       "<div style=\"width:100%;\"><div style=\"position:relative;width:100%;height:0;padding-bottom:60%;\"><span style=\"color:#565656\">Make this Notebook Trusted to load map: File -> Trust Notebook</span><iframe src=\"about:blank\" style=\"position:absolute;width:100%;height:100%;left:0;top:0;border:none !important;\" data-html=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 onload=\"this.contentDocument.open();this.contentDocument.write(atob(this.getAttribute('data-html')));this.contentDocument.close();\" allowfullscreen webkitallowfullscreen mozallowfullscreen></iframe></div></div>"
      ],
      "text/plain": [
       "<folium.folium.Map at 0x1d1fba3a6a0>"
      ]
     },
     "execution_count": 60,
     "metadata": {},
     "output_type": "execute_result"
    }
   ],
   "source": [
    "for lat, lng, borough, neighborhood in zip(\n",
    "        geo_df_toronto['Latitude'], \n",
    "        geo_df_toronto['Longitude'], \n",
    "        geo_df_toronto['Borough'], \n",
    "        geo_df_toronto['Neighborhood']):\n",
    "    label = '{}, {}'.format(neighborhood, borough)\n",
    "    label = folium.Popup(label, parse_html=True)\n",
    "    folium.CircleMarker(\n",
    "        [lat, lng],\n",
    "        radius=5,\n",
    "        popup=label,\n",
    "        color='blue',\n",
    "        fill=True,\n",
    "        fill_color='#3186cc',\n",
    "        fill_opacity=0.7,\n",
    "        parse_html=False).add_to(map_toronto)  \n",
    "\n",
    "map_toronto"
   ]
  },
  {
   "cell_type": "code",
   "execution_count": null,
   "metadata": {},
   "outputs": [],
   "source": []
  }
 ],
 "metadata": {
  "kernelspec": {
   "display_name": "Python 3",
   "language": "python",
   "name": "python3"
  },
  "language_info": {
   "codemirror_mode": {
    "name": "ipython",
    "version": 3
   },
   "file_extension": ".py",
   "mimetype": "text/x-python",
   "name": "python",
   "nbconvert_exporter": "python",
   "pygments_lexer": "ipython3",
   "version": "3.8.6"
  }
 },
 "nbformat": 4,
 "nbformat_minor": 4
}
