{
 "cells": [
  {
   "cell_type": "markdown",
   "metadata": {},
   "source": [
    "\n",
    "### Capstone: Find the best neighborhood in Toronto to open a Hairdresser Store"
   ]
  },
  {
   "cell_type": "markdown",
   "metadata": {},
   "source": [
    "Introduction:\n",
    "A new company, Hair Co., wants to open a branch of store with focus on Hairdressing services in Toronto.\n",
    "To maximise the potential revenue, the Chief Operations Manager, V, of the company Hair Co., has requested a Data Scientist's help to determine good locations to open the store branches in. He wants to know which neighbourhoods in Toronto are suitable to open the Hairdressing branches.\n",
    "\n",
    "I proceeded to gather requirements and information with V to understand more on the business requirements.\n",
    "\n"
   ]
  },
  {
   "cell_type": "markdown",
   "metadata": {},
   "source": [
    "Problem Description:\n",
    "Which neighborhoods and locations should V open his new Hairdressing branches in Toronto to ensure a maximum return of revenue and customers to patronise the stall.\n",
    "\n",
    "Requirements:\n",
    "- Branches needs to be strategically located near to the biggest concentration of residents in Toronto area.\n",
    "- To visualise common restaurants in Toronto by neighborhood.\n",
    "- Determine the number of people that can patronise the store each day around the neighbourhood.\n",
    "- Confirm any assumption by means of modeling and testing the data.\n",
    "a.) Is the neighborhood populous?\n",
    "b.) Determine the average neighbourhood affluence/wealth and salary. Is it comparable to the average of Canadians?\n",
    "\n"
   ]
  },
  {
   "cell_type": "markdown",
   "metadata": {},
   "source": [
    "V wants to be able to judge which neighborhoods also may be poised to grow in population and hence patronisation in coming years.\n",
    "\n",
    "Locating his new branch locations according to these requirements will ensure the following:\n",
    "\n",
    "- lower cost for delivery\n",
    "- shorter travel time to his store for his clients\n",
    "- overall lower run costs\n",
    "- increase in overall business\n",
    "- overall greater customer satisfaction"
   ]
  },
  {
   "cell_type": "code",
   "execution_count": null,
   "metadata": {},
   "outputs": [],
   "source": []
  }
 ],
 "metadata": {
  "kernelspec": {
   "display_name": "Python 3",
   "language": "python",
   "name": "python3"
  },
  "language_info": {
   "codemirror_mode": {
    "name": "ipython",
    "version": 3
   },
   "file_extension": ".py",
   "mimetype": "text/x-python",
   "name": "python",
   "nbconvert_exporter": "python",
   "pygments_lexer": "ipython3",
   "version": "3.8.6"
  }
 },
 "nbformat": 4,
 "nbformat_minor": 4
}
